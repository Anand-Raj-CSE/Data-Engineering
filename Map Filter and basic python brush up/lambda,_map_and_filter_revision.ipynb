{
  "nbformat": 4,
  "nbformat_minor": 0,
  "metadata": {
    "colab": {
      "provenance": []
    },
    "kernelspec": {
      "name": "python3",
      "display_name": "Python 3"
    },
    "language_info": {
      "name": "python"
    }
  },
  "cells": [
    {
      "cell_type": "markdown",
      "source": [
        "Lambda functions - Any function takes a memory space but for limited and small functionality we could use lambda functions. We might not use the user defined funtions everytime but still the memory is utilized ."
      ],
      "metadata": {
        "id": "3529S4hrl1hQ"
      }
    },
    {
      "cell_type": "code",
      "source": [
        "def ApplyOnList(l1,anyfunction):\n",
        "  l2 = []\n",
        "  for i in l1:\n",
        "    l2.append(anyfunction(i))\n",
        "\n",
        "  return l2"
      ],
      "metadata": {
        "id": "rRlFAusim-m2"
      },
      "execution_count": null,
      "outputs": []
    },
    {
      "cell_type": "code",
      "execution_count": null,
      "metadata": {
        "id": "PDs0N6M1dZcc",
        "colab": {
          "base_uri": "https://localhost:8080/"
        },
        "outputId": "63d4898c-3d5e-49a5-bbe1-e2fe02f9a4e2"
      },
      "outputs": [
        {
          "output_type": "execute_result",
          "data": {
            "text/plain": [
              "[1, 4, 9, 16, 25]"
            ]
          },
          "metadata": {},
          "execution_count": 8
        }
      ],
      "source": [
        "ApplyOnList([1,2,3,4,5],lambda x:x*x)"
      ]
    },
    {
      "cell_type": "code",
      "source": [
        "list(map(lambda x:x*x , [1,2,3,7,5]))"
      ],
      "metadata": {
        "colab": {
          "base_uri": "https://localhost:8080/"
        },
        "id": "iu11OokMm98v",
        "outputId": "5ca337fc-8d45-459b-8c2a-ca3278605dc0"
      },
      "execution_count": null,
      "outputs": [
        {
          "output_type": "execute_result",
          "data": {
            "text/plain": [
              "[1, 4, 9, 49, 25]"
            ]
          },
          "metadata": {},
          "execution_count": 9
        }
      ]
    },
    {
      "cell_type": "markdown",
      "source": [
        "Filter - function on an iterable , everything that is true is returned , 0, False , [] , () , \"\" , NULL are false."
      ],
      "metadata": {
        "id": "ZOTOFGx0p1dC"
      }
    },
    {
      "cell_type": "code",
      "source": [
        "def iseven(n):\n",
        "  return n%2 == 0"
      ],
      "metadata": {
        "id": "rRjv2ekHpxVM"
      },
      "execution_count": null,
      "outputs": []
    },
    {
      "cell_type": "code",
      "source": [
        "l1 = [1,2,3,4,5,6,7,43,9,10]\n",
        "l2 = map(lambda x : x**2 , l1)"
      ],
      "metadata": {
        "id": "Qi8bmCayqTZa"
      },
      "execution_count": null,
      "outputs": []
    },
    {
      "cell_type": "code",
      "source": [
        "even = filter(iseven,l2)\n",
        "list(even)"
      ],
      "metadata": {
        "colab": {
          "base_uri": "https://localhost:8080/"
        },
        "id": "lFKeOvd7qe1P",
        "outputId": "c0468e5a-9abd-4cf9-8b0c-853940a07ddf"
      },
      "execution_count": null,
      "outputs": [
        {
          "output_type": "execute_result",
          "data": {
            "text/plain": [
              "[4, 16, 36, 100]"
            ]
          },
          "metadata": {},
          "execution_count": 17
        }
      ]
    },
    {
      "cell_type": "code",
      "source": [
        "list(filter(lambda x:x>10 , [1,2,3,4,45,545,54,45,4,43,34,2,23,31,31,313,133,1,31]))"
      ],
      "metadata": {
        "colab": {
          "base_uri": "https://localhost:8080/"
        },
        "id": "2EOT2VqYqlBF",
        "outputId": "79841341-3e04-42e5-ea5d-61ea30a70d8e"
      },
      "execution_count": null,
      "outputs": [
        {
          "output_type": "execute_result",
          "data": {
            "text/plain": [
              "[45, 545, 54, 45, 43, 34, 23, 31, 31, 313, 133, 31]"
            ]
          },
          "metadata": {},
          "execution_count": 18
        }
      ]
    },
    {
      "cell_type": "markdown",
      "source": [
        "Reduce - Reducing an iterable to reduce to a single value"
      ],
      "metadata": {
        "id": "IXKBeSBWrRDt"
      }
    },
    {
      "cell_type": "code",
      "source": [
        "from functools import reduce"
      ],
      "metadata": {
        "id": "LEglKXMuq_ps"
      },
      "execution_count": null,
      "outputs": []
    },
    {
      "cell_type": "code",
      "source": [
        "reduce(lambda a,b:a+b , [1,2,3,4,5])"
      ],
      "metadata": {
        "colab": {
          "base_uri": "https://localhost:8080/"
        },
        "id": "_CdS3HvWrgvE",
        "outputId": "f9495170-15c6-46f4-f67f-40b5708b64e8"
      },
      "execution_count": null,
      "outputs": [
        {
          "output_type": "execute_result",
          "data": {
            "text/plain": [
              "15"
            ]
          },
          "metadata": {},
          "execution_count": 20
        }
      ]
    },
    {
      "cell_type": "code",
      "source": [
        "reduce(lambda a,b:b , [1,2,3,4,5])"
      ],
      "metadata": {
        "colab": {
          "base_uri": "https://localhost:8080/"
        },
        "id": "E5p2mdRCrm6p",
        "outputId": "0440777b-924b-4c2d-98c4-f6c35e80f907"
      },
      "execution_count": null,
      "outputs": [
        {
          "output_type": "execute_result",
          "data": {
            "text/plain": [
              "5"
            ]
          },
          "metadata": {},
          "execution_count": 21
        }
      ]
    },
    {
      "cell_type": "code",
      "source": [
        "reduce(lambda a,b:a*b , [1,2,3,4,5])"
      ],
      "metadata": {
        "colab": {
          "base_uri": "https://localhost:8080/"
        },
        "id": "iEAa64_9ryhi",
        "outputId": "96e3749c-5ea3-410a-b6ae-6fe1050f62f6"
      },
      "execution_count": null,
      "outputs": [
        {
          "output_type": "execute_result",
          "data": {
            "text/plain": [
              "120"
            ]
          },
          "metadata": {},
          "execution_count": 22
        }
      ]
    },
    {
      "cell_type": "code",
      "source": [],
      "metadata": {
        "id": "yKgxxM0arz_9"
      },
      "execution_count": null,
      "outputs": []
    }
  ]
}