{
 "cells": [
  {
   "cell_type": "markdown",
   "id": "af8c5744",
   "metadata": {},
   "source": [
    "Functions could be assigned , appended to different variables, can be an object.\n",
    "Functions can be passed to another function as an argument or could be returned from a function as well."
   ]
  },
  {
   "cell_type": "code",
   "execution_count": 4,
   "id": "1382bc1e",
   "metadata": {},
   "outputs": [],
   "source": [
    "def sum(a,b):\n",
    "    return a+b"
   ]
  },
  {
   "cell_type": "code",
   "execution_count": 2,
   "id": "50968323",
   "metadata": {},
   "outputs": [
    {
     "data": {
      "text/plain": [
       "[1, 2, 3, 4, <function __main__.sum(a, b)>]"
      ]
     },
     "execution_count": 2,
     "metadata": {},
     "output_type": "execute_result"
    }
   ],
   "source": [
    "l1 = [1,2,3,4]\n",
    "l1.append(sum)\n",
    "l1"
   ]
  },
  {
   "cell_type": "code",
   "execution_count": 3,
   "id": "6575e69c",
   "metadata": {},
   "outputs": [
    {
     "data": {
      "text/plain": [
       "4"
      ]
     },
     "execution_count": 3,
     "metadata": {},
     "output_type": "execute_result"
    }
   ],
   "source": [
    "l1[4](1,3)"
   ]
  },
  {
   "cell_type": "code",
   "execution_count": 6,
   "id": "63f506ff",
   "metadata": {},
   "outputs": [],
   "source": [
    "# A dictionary could be made out the function\n",
    "d1 = {\n",
    "    'sum':sum,\n",
    "    'len':len\n",
    "}"
   ]
  },
  {
   "cell_type": "code",
   "execution_count": 7,
   "id": "6b24140e",
   "metadata": {},
   "outputs": [],
   "source": [
    "def squarerootOfanum(x):\n",
    "    return x**0.5"
   ]
  },
  {
   "cell_type": "code",
   "execution_count": 8,
   "id": "ae6f5b39",
   "metadata": {},
   "outputs": [],
   "source": [
    "def squareOfaNum(x0):\n",
    "    return x0**2"
   ]
  },
  {
   "cell_type": "code",
   "execution_count": 10,
   "id": "b342a497",
   "metadata": {},
   "outputs": [],
   "source": [
    "def anything(x,anyfunction):\n",
    "    l1=[]\n",
    "    for i in x :\n",
    "        l1.append(anyfunction(i))\n",
    "    return l1"
   ]
  },
  {
   "cell_type": "code",
   "execution_count": 11,
   "id": "d0b34e97",
   "metadata": {},
   "outputs": [
    {
     "data": {
      "text/plain": [
       "[1, 4, 9, 16, 25]"
      ]
     },
     "execution_count": 11,
     "metadata": {},
     "output_type": "execute_result"
    }
   ],
   "source": [
    "l1 = [1,2,3,4,5]\n",
    "anything(l1,squareOfaNum)"
   ]
  },
  {
   "cell_type": "code",
   "execution_count": 12,
   "id": "ca4ed932",
   "metadata": {},
   "outputs": [],
   "source": [
    "import math\n"
   ]
  },
  {
   "cell_type": "code",
   "execution_count": 15,
   "id": "31ce64be",
   "metadata": {},
   "outputs": [],
   "source": [
    "def factorial(x):\n",
    "    return math.factorial(x)"
   ]
  },
  {
   "cell_type": "code",
   "execution_count": 18,
   "id": "8a2d1cd1",
   "metadata": {},
   "outputs": [],
   "source": [
    "def getAnything(l1,anyfunction):\n",
    "    l1=[]\n",
    "    for i in l1 :\n",
    "        l1.append(anyfunction(i))\n",
    "    return l1"
   ]
  },
  {
   "cell_type": "code",
   "execution_count": 20,
   "id": "a3e6e058",
   "metadata": {},
   "outputs": [
    {
     "name": "stdout",
     "output_type": "stream",
     "text": [
      "[]\n"
     ]
    }
   ],
   "source": [
    "l1 = [1,2,3,45,8,-100]\n",
    "print(getAnything(l1,factorial))"
   ]
  },
  {
   "cell_type": "code",
   "execution_count": 21,
   "id": "b42b5abb",
   "metadata": {},
   "outputs": [],
   "source": [
    "def greet(name):\n",
    "    return f\"Namaste : {name}\""
   ]
  },
  {
   "cell_type": "code",
   "execution_count": 22,
   "id": "f3e5088a",
   "metadata": {},
   "outputs": [],
   "source": [
    "def hello():\n",
    "    return greet(\"mayank\")"
   ]
  },
  {
   "cell_type": "code",
   "execution_count": 23,
   "id": "0a72426d",
   "metadata": {},
   "outputs": [
    {
     "data": {
      "text/plain": [
       "'Namaste : mayank'"
      ]
     },
     "execution_count": 23,
     "metadata": {},
     "output_type": "execute_result"
    }
   ],
   "source": [
    "hello()"
   ]
  },
  {
   "cell_type": "code",
   "execution_count": 24,
   "id": "f19c14f2",
   "metadata": {},
   "outputs": [],
   "source": [
    "def factorial():\n",
    "    return math.factorial"
   ]
  },
  {
   "cell_type": "code",
   "execution_count": 25,
   "id": "2c4657d3",
   "metadata": {},
   "outputs": [],
   "source": [
    "def anythinginFunc(l1,anyfunction):\n",
    "    l1=[]\n",
    "    for i in l1 :\n",
    "        l1.append(anyfunction(i))\n",
    "    return l1"
   ]
  },
  {
   "cell_type": "code",
   "execution_count": 26,
   "id": "587da29b",
   "metadata": {},
   "outputs": [
    {
     "name": "stdout",
     "output_type": "stream",
     "text": [
      "[]\n"
     ]
    }
   ],
   "source": [
    "l1 = [1,2,3,45,8,-100]\n",
    "print(anythinginFunc(l1,factorial))"
   ]
  },
  {
   "cell_type": "code",
   "execution_count": null,
   "id": "97b61822",
   "metadata": {},
   "outputs": [],
   "source": []
  }
 ],
 "metadata": {
  "kernelspec": {
   "display_name": "Python 3",
   "language": "python",
   "name": "python3"
  },
  "language_info": {
   "codemirror_mode": {
    "name": "ipython",
    "version": 3
   },
   "file_extension": ".py",
   "mimetype": "text/x-python",
   "name": "python",
   "nbconvert_exporter": "python",
   "pygments_lexer": "ipython3",
   "version": "3.9.4"
  }
 },
 "nbformat": 4,
 "nbformat_minor": 5
}
