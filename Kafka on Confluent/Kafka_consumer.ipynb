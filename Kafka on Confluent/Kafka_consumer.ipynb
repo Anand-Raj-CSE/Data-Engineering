{
  "cells": [
    {
      "cell_type": "code",
      "execution_count": 1,
      "metadata": {
        "colab": {
          "base_uri": "https://localhost:8080/"
        },
        "id": "TGGllQTs3_5-",
        "outputId": "1e93c03e-e597-44f7-9898-96658e770614"
      },
      "outputs": [
        {
          "name": "stdout",
          "output_type": "stream",
          "text": [
            "Collecting confluent-kafka\n",
            "  Downloading confluent_kafka-2.11.0-cp39-cp39-win_amd64.whl (4.0 MB)\n",
            "Installing collected packages: confluent-kafka\n",
            "Successfully installed confluent-kafka-2.11.0\n"
          ]
        },
        {
          "name": "stderr",
          "output_type": "stream",
          "text": [
            "WARNING: You are using pip version 21.2.4; however, version 25.1.1 is available.\n",
            "You should consider upgrading via the 'c:\\users\\aanan\\appdata\\local\\programs\\python\\python39\\python.exe -m pip install --upgrade pip' command.\n"
          ]
        }
      ],
      "source": [
        "!pip install confluent-kafka"
      ]
    },
    {
      "cell_type": "code",
      "execution_count": 2,
      "metadata": {
        "id": "W4B2f0gY4Lsy"
      },
      "outputs": [],
      "source": [
        "from confluent_kafka import Consumer , KafkaError , KafkaException\n",
        "import json\n",
        "import time\n",
        "\n",
        "config = {\n",
        "  \"bootstrap.servers\":\"p\",\n",
        "  \"security.protocol\":\"SASL_SSL\",\n",
        "  \"sasl.mechanisms\":\"PLAIN\",\n",
        "  \"sasl.username\":\"\",\n",
        "  \"sasl.password\":\"+7\",\n",
        "  \"session.timeout.ms\":45000,\n",
        "  \"client.id\":\"ccloud-pytho\",\n",
        "  'auto.offset.reset':'earliest',\n",
        "  'group.id':'customer_group'\n",
        "}"
      ]
    },
    {
      "cell_type": "code",
      "execution_count": null,
      "metadata": {
        "id": "5BtBUmFF4cs5"
      },
      "outputs": [],
      "source": [
        "consumer = Consumer(config)\n",
        "topic = 'ecommerce'\n",
        "consumer.subscribe([topic])\n"
      ]
    },
    {
      "cell_type": "code",
      "execution_count": null,
      "metadata": {
        "colab": {
          "base_uri": "https://localhost:8080/"
        },
        "id": "qQOPhXYZ5a3e",
        "outputId": "83617b0b-b475-4d47-9f64-510a07f193db"
      },
      "outputs": [
        {
          "name": "stdout",
          "output_type": "stream",
          "text": [
            "Listening for messages , press CTRL + C to exit.\n",
            "Message recieved: 123,{}\n",
            "Message recieved: 123,{'Price': 5}\n",
            "Message recieved: 123,{}\n",
            "Message recieved: 123,{'Price': 50}\n",
            "Error consuming message: Expecting property name enclosed in double quotes: line 1 column 2 (char 1)\n",
            "Message recieved: 0,{'customer_id': 0, 'name': 'Customer_0', 'city': 'Pune', 'state': 'Maharashtra', 'country': 'India', 'registration_date': '2023-06-29', 'is_active': False}\n",
            "Message recieved: 1,{'customer_id': 1, 'name': 'Customer_1', 'city': 'Bangalore', 'state': 'Tamil Nadu', 'country': 'India', 'registration_date': '2023-12-07', 'is_active': True}\n",
            "Message recieved: 8,{'customer_id': 8, 'name': 'Customer_8', 'city': 'Pune', 'state': 'Karnataka', 'country': 'India', 'registration_date': '2023-06-22', 'is_active': True}\n",
            "Message recieved: 13,{'customer_id': 13, 'name': 'Customer_13', 'city': 'Chennai', 'state': 'Karnataka', 'country': 'India', 'registration_date': '2023-11-06', 'is_active': True}\n",
            "Message recieved: 17,{'customer_id': 17, 'name': 'Customer_17', 'city': 'Hyderabad', 'state': 'West Bengal', 'country': 'India', 'registration_date': '2023-08-21', 'is_active': False}\n",
            "Message recieved: 22,{'customer_id': 22, 'name': 'Customer_22', 'city': 'Chennai', 'state': 'West Bengal', 'country': 'India', 'registration_date': '2023-08-03', 'is_active': True}\n",
            "Message recieved: 24,{'customer_id': 24, 'name': 'Customer_24', 'city': 'Kolkata', 'state': 'Karnataka', 'country': 'India', 'registration_date': '2023-03-06', 'is_active': False}\n",
            "Message recieved: 29,{'customer_id': 29, 'name': 'Customer_29', 'city': 'Delhi', 'state': 'Gujarat', 'country': 'India', 'registration_date': '2023-05-28', 'is_active': False}\n",
            "Message recieved: 33,{'customer_id': 33, 'name': 'Customer_33', 'city': 'Mumbai', 'state': 'West Bengal', 'country': 'India', 'registration_date': '2023-09-11', 'is_active': False}\n",
            "Message recieved: 34,{'customer_id': 34, 'name': 'Customer_34', 'city': 'Kolkata', 'state': 'Gujarat', 'country': 'India', 'registration_date': '2023-11-01', 'is_active': True}\n",
            "Message recieved: 40,{'customer_id': 40, 'name': 'Customer_40', 'city': 'Pune', 'state': 'West Bengal', 'country': 'India', 'registration_date': '2023-01-15', 'is_active': False}\n",
            "Message recieved: 41,{'customer_id': 41, 'name': 'Customer_41', 'city': 'Bangalore', 'state': 'Karnataka', 'country': 'India', 'registration_date': '2023-03-28', 'is_active': False}\n",
            "Message recieved: 42,{'customer_id': 42, 'name': 'Customer_42', 'city': 'Bangalore', 'state': 'Gujarat', 'country': 'India', 'registration_date': '2023-08-11', 'is_active': True}\n",
            "Message recieved: 44,{'customer_id': 44, 'name': 'Customer_44', 'city': 'Pune', 'state': 'Gujarat', 'country': 'India', 'registration_date': '2023-04-01', 'is_active': True}\n",
            "Message recieved: 55,{'customer_id': 55, 'name': 'Customer_55', 'city': 'Pune', 'state': 'Telangana', 'country': 'India', 'registration_date': '2023-12-07', 'is_active': True}\n",
            "Message recieved: 59,{'customer_id': 59, 'name': 'Customer_59', 'city': 'Ahmedabad', 'state': 'Telangana', 'country': 'India', 'registration_date': '2023-07-08', 'is_active': True}\n",
            "Message recieved: 74,{'customer_id': 74, 'name': 'Customer_74', 'city': 'Chennai', 'state': 'Gujarat', 'country': 'India', 'registration_date': '2023-01-10', 'is_active': False}\n",
            "Message recieved: 76,{'customer_id': 76, 'name': 'Customer_76', 'city': 'Kolkata', 'state': 'Delhi', 'country': 'India', 'registration_date': '2023-01-08', 'is_active': False}\n",
            "Message recieved: 79,{'customer_id': 79, 'name': 'Customer_79', 'city': 'Pune', 'state': 'Telangana', 'country': 'India', 'registration_date': '2023-02-06', 'is_active': True}\n",
            "Message recieved: 81,{'customer_id': 81, 'name': 'Customer_81', 'city': 'Chennai', 'state': 'West Bengal', 'country': 'India', 'registration_date': '2023-08-22', 'is_active': True}\n",
            "Message recieved: 83,{'customer_id': 83, 'name': 'Customer_83', 'city': 'Pune', 'state': 'Telangana', 'country': 'India', 'registration_date': '2023-08-28', 'is_active': True}\n",
            "Message recieved: 2,{'customer_id': 2, 'name': 'Customer_2', 'city': 'Hyderabad', 'state': 'Gujarat', 'country': 'India', 'registration_date': '2023-10-27', 'is_active': True}\n",
            "Message recieved: 3,{'customer_id': 3, 'name': 'Customer_3', 'city': 'Bangalore', 'state': 'Karnataka', 'country': 'India', 'registration_date': '2023-10-17', 'is_active': False}\n",
            "Message recieved: 4,{'customer_id': 4, 'name': 'Customer_4', 'city': 'Ahmedabad', 'state': 'Karnataka', 'country': 'India', 'registration_date': '2023-03-14', 'is_active': False}\n",
            "Message recieved: 5,{'customer_id': 5, 'name': 'Customer_5', 'city': 'Hyderabad', 'state': 'Karnataka', 'country': 'India', 'registration_date': '2023-07-28', 'is_active': False}\n",
            "Message recieved: 6,{'customer_id': 6, 'name': 'Customer_6', 'city': 'Pune', 'state': 'Delhi', 'country': 'India', 'registration_date': '2023-08-29', 'is_active': False}\n",
            "Message recieved: 15,{'customer_id': 15, 'name': 'Customer_15', 'city': 'Mumbai', 'state': 'Gujarat', 'country': 'India', 'registration_date': '2023-03-02', 'is_active': True}\n",
            "Message recieved: 19,{'customer_id': 19, 'name': 'Customer_19', 'city': 'Kolkata', 'state': 'Gujarat', 'country': 'India', 'registration_date': '2023-02-05', 'is_active': True}\n",
            "Message recieved: 21,{'customer_id': 21, 'name': 'Customer_21', 'city': 'Bangalore', 'state': 'Tamil Nadu', 'country': 'India', 'registration_date': '2023-05-30', 'is_active': True}\n",
            "Message recieved: 23,{'customer_id': 23, 'name': 'Customer_23', 'city': 'Chennai', 'state': 'Maharashtra', 'country': 'India', 'registration_date': '2023-02-15', 'is_active': False}\n",
            "Message recieved: 26,{'customer_id': 26, 'name': 'Customer_26', 'city': 'Delhi', 'state': 'Delhi', 'country': 'India', 'registration_date': '2023-03-22', 'is_active': True}\n",
            "Message recieved: 30,{'customer_id': 30, 'name': 'Customer_30', 'city': 'Hyderabad', 'state': 'Karnataka', 'country': 'India', 'registration_date': '2023-01-28', 'is_active': False}\n",
            "Message recieved: 31,{'customer_id': 31, 'name': 'Customer_31', 'city': 'Kolkata', 'state': 'Tamil Nadu', 'country': 'India', 'registration_date': '2023-06-14', 'is_active': False}\n",
            "Message recieved: 32,{'customer_id': 32, 'name': 'Customer_32', 'city': 'Delhi', 'state': 'Telangana', 'country': 'India', 'registration_date': '2023-05-15', 'is_active': False}\n",
            "Message recieved: 35,{'customer_id': 35, 'name': 'Customer_35', 'city': 'Pune', 'state': 'Karnataka', 'country': 'India', 'registration_date': '2023-07-31', 'is_active': False}\n",
            "Message recieved: 36,{'customer_id': 36, 'name': 'Customer_36', 'city': 'Ahmedabad', 'state': 'Tamil Nadu', 'country': 'India', 'registration_date': '2023-10-07', 'is_active': True}\n",
            "Message recieved: 37,{'customer_id': 37, 'name': 'Customer_37', 'city': 'Hyderabad', 'state': 'Karnataka', 'country': 'India', 'registration_date': '2023-03-21', 'is_active': True}\n",
            "Message recieved: 39,{'customer_id': 39, 'name': 'Customer_39', 'city': 'Pune', 'state': 'Tamil Nadu', 'country': 'India', 'registration_date': '2023-12-14', 'is_active': False}\n",
            "Message recieved: 43,{'customer_id': 43, 'name': 'Customer_43', 'city': 'Hyderabad', 'state': 'Tamil Nadu', 'country': 'India', 'registration_date': '2023-11-21', 'is_active': True}\n",
            "Message recieved: 45,{'customer_id': 45, 'name': 'Customer_45', 'city': 'Chennai', 'state': 'Maharashtra', 'country': 'India', 'registration_date': '2023-11-12', 'is_active': False}\n",
            "Message recieved: 52,{'customer_id': 52, 'name': 'Customer_52', 'city': 'Ahmedabad', 'state': 'Karnataka', 'country': 'India', 'registration_date': '2023-02-25', 'is_active': True}\n",
            "Message recieved: 54,{'customer_id': 54, 'name': 'Customer_54', 'city': 'Kolkata', 'state': 'Delhi', 'country': 'India', 'registration_date': '2023-12-13', 'is_active': False}\n",
            "Message recieved: 56,{'customer_id': 56, 'name': 'Customer_56', 'city': 'Delhi', 'state': 'Karnataka', 'country': 'India', 'registration_date': '2023-12-29', 'is_active': False}\n",
            "Message recieved: 61,{'customer_id': 61, 'name': 'Customer_61', 'city': 'Hyderabad', 'state': 'Delhi', 'country': 'India', 'registration_date': '2023-12-31', 'is_active': False}\n",
            "Message recieved: 62,{'customer_id': 62, 'name': 'Customer_62', 'city': 'Delhi', 'state': 'Maharashtra', 'country': 'India', 'registration_date': '2023-04-12', 'is_active': True}\n",
            "Message recieved: 66,{'customer_id': 66, 'name': 'Customer_66', 'city': 'Pune', 'state': 'Tamil Nadu', 'country': 'India', 'registration_date': '2023-12-02', 'is_active': True}\n",
            "Message recieved: 67,{'customer_id': 67, 'name': 'Customer_67', 'city': 'Hyderabad', 'state': 'Gujarat', 'country': 'India', 'registration_date': '2023-03-06', 'is_active': False}\n",
            "Message recieved: 68,{'customer_id': 68, 'name': 'Customer_68', 'city': 'Kolkata', 'state': 'Gujarat', 'country': 'India', 'registration_date': '2023-07-17', 'is_active': False}\n",
            "Message recieved: 69,{'customer_id': 69, 'name': 'Customer_69', 'city': 'Pune', 'state': 'Tamil Nadu', 'country': 'India', 'registration_date': '2023-01-16', 'is_active': True}\n",
            "Message recieved: 70,{'customer_id': 70, 'name': 'Customer_70', 'city': 'Kolkata', 'state': 'West Bengal', 'country': 'India', 'registration_date': '2023-11-06', 'is_active': True}\n",
            "Message recieved: 71,{'customer_id': 71, 'name': 'Customer_71', 'city': 'Mumbai', 'state': 'West Bengal', 'country': 'India', 'registration_date': '2023-12-19', 'is_active': True}\n",
            "Message recieved: 73,{'customer_id': 73, 'name': 'Customer_73', 'city': 'Chennai', 'state': 'West Bengal', 'country': 'India', 'registration_date': '2023-03-01', 'is_active': False}\n",
            "Message recieved: 1,{}\n",
            "Message recieved: 1,{}\n",
            "Message recieved: 84,{'customer_id': 84, 'name': 'Customer_84', 'city': 'Pune', 'state': 'Delhi', 'country': 'India', 'registration_date': '2023-04-14', 'is_active': False}\n",
            "Message recieved: 87,{'customer_id': 87, 'name': 'Customer_87', 'city': 'Pune', 'state': 'Karnataka', 'country': 'India', 'registration_date': '2023-10-06', 'is_active': False}\n",
            "Message recieved: 88,{'customer_id': 88, 'name': 'Customer_88', 'city': 'Pune', 'state': 'Telangana', 'country': 'India', 'registration_date': '2023-06-15', 'is_active': True}\n",
            "Message recieved: 92,{'customer_id': 92, 'name': 'Customer_92', 'city': 'Kolkata', 'state': 'Delhi', 'country': 'India', 'registration_date': '2023-06-25', 'is_active': True}\n",
            "Message recieved: 93,{'customer_id': 93, 'name': 'Customer_93', 'city': 'Pune', 'state': 'West Bengal', 'country': 'India', 'registration_date': '2023-09-30', 'is_active': False}\n",
            "Message recieved: 96,{'customer_id': 96, 'name': 'Customer_96', 'city': 'Ahmedabad', 'state': 'Telangana', 'country': 'India', 'registration_date': '2023-06-22', 'is_active': False}\n",
            "Message recieved: 7,{'customer_id': 7, 'name': 'Customer_7', 'city': 'Ahmedabad', 'state': 'West Bengal', 'country': 'India', 'registration_date': '2023-12-28', 'is_active': True}\n",
            "Message recieved: 9,{'customer_id': 9, 'name': 'Customer_9', 'city': 'Mumbai', 'state': 'Telangana', 'country': 'India', 'registration_date': '2023-01-05', 'is_active': True}\n",
            "Message recieved: 10,{'customer_id': 10, 'name': 'Customer_10', 'city': 'Pune', 'state': 'Gujarat', 'country': 'India', 'registration_date': '2023-08-05', 'is_active': True}\n",
            "Message recieved: 11,{'customer_id': 11, 'name': 'Customer_11', 'city': 'Delhi', 'state': 'West Bengal', 'country': 'India', 'registration_date': '2023-08-02', 'is_active': False}\n",
            "Message recieved: 12,{'customer_id': 12, 'name': 'Customer_12', 'city': 'Chennai', 'state': 'Gujarat', 'country': 'India', 'registration_date': '2023-11-21', 'is_active': False}\n",
            "Message recieved: 14,{'customer_id': 14, 'name': 'Customer_14', 'city': 'Hyderabad', 'state': 'Tamil Nadu', 'country': 'India', 'registration_date': '2023-02-07', 'is_active': False}\n",
            "Message recieved: 16,{'customer_id': 16, 'name': 'Customer_16', 'city': 'Chennai', 'state': 'Karnataka', 'country': 'India', 'registration_date': '2023-04-05', 'is_active': False}\n",
            "Message recieved: 18,{'customer_id': 18, 'name': 'Customer_18', 'city': 'Pune', 'state': 'Delhi', 'country': 'India', 'registration_date': '2023-10-04', 'is_active': True}\n",
            "Message recieved: 20,{'customer_id': 20, 'name': 'Customer_20', 'city': 'Hyderabad', 'state': 'Telangana', 'country': 'India', 'registration_date': '2023-01-01', 'is_active': True}\n",
            "Message recieved: 25,{'customer_id': 25, 'name': 'Customer_25', 'city': 'Pune', 'state': 'Tamil Nadu', 'country': 'India', 'registration_date': '2023-01-06', 'is_active': False}\n",
            "Message recieved: 27,{'customer_id': 27, 'name': 'Customer_27', 'city': 'Ahmedabad', 'state': 'Gujarat', 'country': 'India', 'registration_date': '2023-07-08', 'is_active': True}\n",
            "Message recieved: 28,{'customer_id': 28, 'name': 'Customer_28', 'city': 'Hyderabad', 'state': 'Maharashtra', 'country': 'India', 'registration_date': '2023-05-31', 'is_active': True}\n",
            "Message recieved: 38,{'customer_id': 38, 'name': 'Customer_38', 'city': 'Bangalore', 'state': 'Telangana', 'country': 'India', 'registration_date': '2023-09-26', 'is_active': False}\n",
            "Message recieved: 46,{'customer_id': 46, 'name': 'Customer_46', 'city': 'Kolkata', 'state': 'Delhi', 'country': 'India', 'registration_date': '2023-09-23', 'is_active': True}\n",
            "Message recieved: 47,{'customer_id': 47, 'name': 'Customer_47', 'city': 'Kolkata', 'state': 'Telangana', 'country': 'India', 'registration_date': '2023-11-03', 'is_active': True}\n",
            "Message recieved: 48,{'customer_id': 48, 'name': 'Customer_48', 'city': 'Ahmedabad', 'state': 'Tamil Nadu', 'country': 'India', 'registration_date': '2023-11-16', 'is_active': True}\n",
            "Message recieved: 49,{'customer_id': 49, 'name': 'Customer_49', 'city': 'Delhi', 'state': 'Gujarat', 'country': 'India', 'registration_date': '2023-04-16', 'is_active': True}\n",
            "Message recieved: 50,{'customer_id': 50, 'name': 'Customer_50', 'city': 'Kolkata', 'state': 'Tamil Nadu', 'country': 'India', 'registration_date': '2023-09-10', 'is_active': True}\n",
            "Message recieved: 51,{'customer_id': 51, 'name': 'Customer_51', 'city': 'Ahmedabad', 'state': 'Tamil Nadu', 'country': 'India', 'registration_date': '2023-07-18', 'is_active': True}\n",
            "Message recieved: 53,{'customer_id': 53, 'name': 'Customer_53', 'city': 'Pune', 'state': 'Telangana', 'country': 'India', 'registration_date': '2023-08-27', 'is_active': True}\n",
            "Message recieved: 57,{'customer_id': 57, 'name': 'Customer_57', 'city': 'Kolkata', 'state': 'Gujarat', 'country': 'India', 'registration_date': '2023-08-06', 'is_active': False}\n",
            "Message recieved: 58,{'customer_id': 58, 'name': 'Customer_58', 'city': 'Kolkata', 'state': 'Tamil Nadu', 'country': 'India', 'registration_date': '2023-07-31', 'is_active': True}\n",
            "Message recieved: 60,{'customer_id': 60, 'name': 'Customer_60', 'city': 'Mumbai', 'state': 'Tamil Nadu', 'country': 'India', 'registration_date': '2023-12-01', 'is_active': True}\n",
            "Message recieved: 63,{'customer_id': 63, 'name': 'Customer_63', 'city': 'Mumbai', 'state': 'Karnataka', 'country': 'India', 'registration_date': '2023-05-23', 'is_active': True}\n",
            "Message recieved: 64,{'customer_id': 64, 'name': 'Customer_64', 'city': 'Chennai', 'state': 'Maharashtra', 'country': 'India', 'registration_date': '2023-10-12', 'is_active': False}\n",
            "Message recieved: 65,{'customer_id': 65, 'name': 'Customer_65', 'city': 'Delhi', 'state': 'Telangana', 'country': 'India', 'registration_date': '2023-03-11', 'is_active': True}\n",
            "Message recieved: 72,{'customer_id': 72, 'name': 'Customer_72', 'city': 'Mumbai', 'state': 'Maharashtra', 'country': 'India', 'registration_date': '2023-09-20', 'is_active': False}\n",
            "Message recieved: 75,{'customer_id': 75, 'name': 'Customer_75', 'city': 'Hyderabad', 'state': 'Telangana', 'country': 'India', 'registration_date': '2023-11-05', 'is_active': True}\n",
            "Message recieved: 77,{'customer_id': 77, 'name': 'Customer_77', 'city': 'Pune', 'state': 'Telangana', 'country': 'India', 'registration_date': '2023-12-07', 'is_active': True}\n",
            "Message recieved: 78,{'customer_id': 78, 'name': 'Customer_78', 'city': 'Bangalore', 'state': 'Maharashtra', 'country': 'India', 'registration_date': '2023-03-31', 'is_active': False}\n",
            "Message recieved: 80,{'customer_id': 80, 'name': 'Customer_80', 'city': 'Ahmedabad', 'state': 'West Bengal', 'country': 'India', 'registration_date': '2023-03-25', 'is_active': False}\n",
            "Message recieved: 82,{'customer_id': 82, 'name': 'Customer_82', 'city': 'Kolkata', 'state': 'Delhi', 'country': 'India', 'registration_date': '2023-09-07', 'is_active': False}\n",
            "Message recieved: 85,{'customer_id': 85, 'name': 'Customer_85', 'city': 'Chennai', 'state': 'Gujarat', 'country': 'India', 'registration_date': '2023-07-30', 'is_active': True}\n",
            "Message recieved: 86,{'customer_id': 86, 'name': 'Customer_86', 'city': 'Ahmedabad', 'state': 'Maharashtra', 'country': 'India', 'registration_date': '2023-08-13', 'is_active': False}\n",
            "Message recieved: 89,{'customer_id': 89, 'name': 'Customer_89', 'city': 'Delhi', 'state': 'Gujarat', 'country': 'India', 'registration_date': '2023-10-28', 'is_active': True}\n",
            "Message recieved: 90,{'customer_id': 90, 'name': 'Customer_90', 'city': 'Ahmedabad', 'state': 'Gujarat', 'country': 'India', 'registration_date': '2023-02-15', 'is_active': False}\n",
            "Message recieved: 91,{'customer_id': 91, 'name': 'Customer_91', 'city': 'Mumbai', 'state': 'Telangana', 'country': 'India', 'registration_date': '2023-01-02', 'is_active': False}\n",
            "Message recieved: 94,{'customer_id': 94, 'name': 'Customer_94', 'city': 'Chennai', 'state': 'Maharashtra', 'country': 'India', 'registration_date': '2023-04-28', 'is_active': False}\n",
            "Message recieved: 95,{'customer_id': 95, 'name': 'Customer_95', 'city': 'Mumbai', 'state': 'Karnataka', 'country': 'India', 'registration_date': '2023-09-29', 'is_active': True}\n",
            "Message recieved: 97,{'customer_id': 97, 'name': 'Customer_97', 'city': 'Pune', 'state': 'Maharashtra', 'country': 'India', 'registration_date': '2023-10-31', 'is_active': True}\n",
            "Message recieved: 98,{'customer_id': 98, 'name': 'Customer_98', 'city': 'Pune', 'state': 'West Bengal', 'country': 'India', 'registration_date': '2023-06-01', 'is_active': True}\n",
            "Message recieved: 12345,{'value': 2}\n",
            "Shutting down as interrupted by keyboard inputs.\n"
          ]
        }
      ],
      "source": [
        "def process_message(message):\n",
        "  try:\n",
        "    if message.error():\n",
        "      if (message.error.code()) == KafkaError._PARTITION_EOF:\n",
        "        print(\"End of partition reached {0}/{1}\".format(message.topic(),message.partition()))\n",
        "      else:\n",
        "        raise KafkaException(message.error())\n",
        "    else:\n",
        "      key = message.key().decode('utf-8')\n",
        "      value =json.loads(message.value().decode('utf-8'))\n",
        "      print(f\"Message recieved: {key},{value}\")\n",
        "  except Exception as e:\n",
        "    print(f\"Error consuming message: {e}\")\n",
        "\n",
        "# Poll messages continuosly\n",
        "try:\n",
        "  print(\"Listening for messages , press CTRL + C to exit.\")\n",
        "\n",
        "  while True:\n",
        "    message = consumer.poll(timeout = 0.1)\n",
        "    if (message):\n",
        "      process_message(message)\n",
        "\n",
        "except KeyboardInterrupt:\n",
        "  print(\"Shutting down as interrupted by keyboard inputs.\")\n",
        "\n",
        "finally:  # Always executed as\n",
        "  consumer.close()"
      ]
    },
    {
      "cell_type": "code",
      "execution_count": null,
      "metadata": {
        "id": "GhMN1Zw0B4O0"
      },
      "outputs": [],
      "source": []
    }
  ],
  "metadata": {
    "colab": {
      "provenance": []
    },
    "kernelspec": {
      "display_name": "Python 3",
      "name": "python3"
    },
    "language_info": {
      "codemirror_mode": {
        "name": "ipython",
        "version": 3
      },
      "file_extension": ".py",
      "mimetype": "text/x-python",
      "name": "python",
      "nbconvert_exporter": "python",
      "pygments_lexer": "ipython3",
      "version": "3.9.4"
    }
  },
  "nbformat": 4,
  "nbformat_minor": 0
}
